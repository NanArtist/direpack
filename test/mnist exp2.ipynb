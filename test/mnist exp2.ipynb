{
 "metadata": {
  "language_info": {
   "codemirror_mode": {
    "name": "ipython",
    "version": 3
   },
   "file_extension": ".py",
   "mimetype": "text/x-python",
   "name": "python",
   "nbconvert_exporter": "python",
   "pygments_lexer": "ipython3",
   "version": "3.8.8"
  },
  "orig_nbformat": 2,
  "kernelspec": {
   "name": "python388jvsc74a57bd07c29fb54a457c596f4be8cf6b5609c4f4db9ff8f274031dd3153dcd680d19590",
   "display_name": "Python 3.8.8 64-bit ('nan': conda)"
  }
 },
 "nbformat": 4,
 "nbformat_minor": 2,
 "cells": [
  {
   "cell_type": "code",
   "execution_count": 2,
   "metadata": {},
   "outputs": [],
   "source": [
    "import cv2\n",
    "import numpy as np\n",
    "from matplotlib import pyplot as plt"
   ]
  },
  {
   "cell_type": "code",
   "execution_count": null,
   "metadata": {},
   "outputs": [],
   "source": [
    "path = \"D:\\\\Datasets\\\\102_Flowers\\\\102flowers\\\\jpg\\\\\"\n",
    "images = cv2.imread(path)\n",
    "HSV=cv2.cvtColor(image, cv2.COLOR_BGR2HSV)"
   ]
  }
 ]
}